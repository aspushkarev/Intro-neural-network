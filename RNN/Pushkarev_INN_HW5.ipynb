{
  "nbformat": 4,
  "nbformat_minor": 0,
  "metadata": {
    "colab": {
      "provenance": []
    },
    "kernelspec": {
      "name": "python3",
      "display_name": "Python 3"
    },
    "language_info": {
      "name": "python"
    }
  },
  "cells": [
    {
      "cell_type": "markdown",
      "source": [
        "1. Попробуйте изменить параметры нейронной сети, работающей с датасетом imdb, либо нейронной сети, работающей airline-passengers (она прилагается вместе с датасетом к уроку в виде отдельного скрипта) так, чтобы улучшить её точность. Приложите анализ"
      ],
      "metadata": {
        "id": "QktXerULpB8N"
      }
    },
    {
      "cell_type": "code",
      "execution_count": 1,
      "metadata": {
        "id": "2gAo2B2k1PdR"
      },
      "outputs": [],
      "source": [
        "import numpy as np\n",
        "from keras.utils.data_utils import pad_sequences\n",
        "from keras.models import Sequential\n",
        "from keras.layers import Dense, Embedding, Dropout\n",
        "from keras.layers import LSTM\n",
        "from keras.datasets import imdb"
      ]
    },
    {
      "cell_type": "code",
      "source": [
        "max_features = 10_000\n",
        "\n",
        "# обрезаем тексты после данного количества слов (среди top max_features наиболее используемые слова)\n",
        "maxlen = 80\n",
        "batch_size = 50 # увеличьте значение для ускорения обучения\n",
        "\n",
        "(X_train, y_train), (X_test, y_test) = imdb.load_data(num_words=max_features)"
      ],
      "metadata": {
        "id": "5BMzqI1NpRMP",
        "colab": {
          "base_uri": "https://localhost:8080/"
        },
        "outputId": "eaf97c56-9104-4649-e334-f7332adcdc7b"
      },
      "execution_count": 2,
      "outputs": [
        {
          "output_type": "stream",
          "name": "stdout",
          "text": [
            "Downloading data from https://storage.googleapis.com/tensorflow/tf-keras-datasets/imdb.npz\n",
            "17464789/17464789 [==============================] - 0s 0us/step\n"
          ]
        }
      ]
    },
    {
      "cell_type": "code",
      "source": [
        "[len(i) for i in X_train[:5]]"
      ],
      "metadata": {
        "colab": {
          "base_uri": "https://localhost:8080/"
        },
        "id": "6WwNUJzWprm8",
        "outputId": "834fb4d9-88a8-492d-9084-80ceae098dec"
      },
      "execution_count": 3,
      "outputs": [
        {
          "output_type": "execute_result",
          "data": {
            "text/plain": [
              "[218, 189, 141, 550, 147]"
            ]
          },
          "metadata": {},
          "execution_count": 3
        }
      ]
    },
    {
      "cell_type": "code",
      "source": [
        "print(X_train[:5])"
      ],
      "metadata": {
        "colab": {
          "base_uri": "https://localhost:8080/"
        },
        "id": "ZL_UI_xjpwpD",
        "outputId": "8a44b91a-c5ba-40fe-82a2-c8c725029122"
      },
      "execution_count": 4,
      "outputs": [
        {
          "output_type": "stream",
          "name": "stdout",
          "text": [
            "[list([1, 14, 22, 16, 43, 530, 973, 1622, 1385, 65, 458, 4468, 66, 3941, 4, 173, 36, 256, 5, 25, 100, 43, 838, 112, 50, 670, 2, 9, 35, 480, 284, 5, 150, 4, 172, 112, 167, 2, 336, 385, 39, 4, 172, 4536, 1111, 17, 546, 38, 13, 447, 4, 192, 50, 16, 6, 147, 2025, 19, 14, 22, 4, 1920, 4613, 469, 4, 22, 71, 87, 12, 16, 43, 530, 38, 76, 15, 13, 1247, 4, 22, 17, 515, 17, 12, 16, 626, 18, 2, 5, 62, 386, 12, 8, 316, 8, 106, 5, 4, 2223, 5244, 16, 480, 66, 3785, 33, 4, 130, 12, 16, 38, 619, 5, 25, 124, 51, 36, 135, 48, 25, 1415, 33, 6, 22, 12, 215, 28, 77, 52, 5, 14, 407, 16, 82, 2, 8, 4, 107, 117, 5952, 15, 256, 4, 2, 7, 3766, 5, 723, 36, 71, 43, 530, 476, 26, 400, 317, 46, 7, 4, 2, 1029, 13, 104, 88, 4, 381, 15, 297, 98, 32, 2071, 56, 26, 141, 6, 194, 7486, 18, 4, 226, 22, 21, 134, 476, 26, 480, 5, 144, 30, 5535, 18, 51, 36, 28, 224, 92, 25, 104, 4, 226, 65, 16, 38, 1334, 88, 12, 16, 283, 5, 16, 4472, 113, 103, 32, 15, 16, 5345, 19, 178, 32])\n",
            " list([1, 194, 1153, 194, 8255, 78, 228, 5, 6, 1463, 4369, 5012, 134, 26, 4, 715, 8, 118, 1634, 14, 394, 20, 13, 119, 954, 189, 102, 5, 207, 110, 3103, 21, 14, 69, 188, 8, 30, 23, 7, 4, 249, 126, 93, 4, 114, 9, 2300, 1523, 5, 647, 4, 116, 9, 35, 8163, 4, 229, 9, 340, 1322, 4, 118, 9, 4, 130, 4901, 19, 4, 1002, 5, 89, 29, 952, 46, 37, 4, 455, 9, 45, 43, 38, 1543, 1905, 398, 4, 1649, 26, 6853, 5, 163, 11, 3215, 2, 4, 1153, 9, 194, 775, 7, 8255, 2, 349, 2637, 148, 605, 2, 8003, 15, 123, 125, 68, 2, 6853, 15, 349, 165, 4362, 98, 5, 4, 228, 9, 43, 2, 1157, 15, 299, 120, 5, 120, 174, 11, 220, 175, 136, 50, 9, 4373, 228, 8255, 5, 2, 656, 245, 2350, 5, 4, 9837, 131, 152, 491, 18, 2, 32, 7464, 1212, 14, 9, 6, 371, 78, 22, 625, 64, 1382, 9, 8, 168, 145, 23, 4, 1690, 15, 16, 4, 1355, 5, 28, 6, 52, 154, 462, 33, 89, 78, 285, 16, 145, 95])\n",
            " list([1, 14, 47, 8, 30, 31, 7, 4, 249, 108, 7, 4, 5974, 54, 61, 369, 13, 71, 149, 14, 22, 112, 4, 2401, 311, 12, 16, 3711, 33, 75, 43, 1829, 296, 4, 86, 320, 35, 534, 19, 263, 4821, 1301, 4, 1873, 33, 89, 78, 12, 66, 16, 4, 360, 7, 4, 58, 316, 334, 11, 4, 1716, 43, 645, 662, 8, 257, 85, 1200, 42, 1228, 2578, 83, 68, 3912, 15, 36, 165, 1539, 278, 36, 69, 2, 780, 8, 106, 14, 6905, 1338, 18, 6, 22, 12, 215, 28, 610, 40, 6, 87, 326, 23, 2300, 21, 23, 22, 12, 272, 40, 57, 31, 11, 4, 22, 47, 6, 2307, 51, 9, 170, 23, 595, 116, 595, 1352, 13, 191, 79, 638, 89, 2, 14, 9, 8, 106, 607, 624, 35, 534, 6, 227, 7, 129, 113])\n",
            " list([1, 4, 2, 2, 33, 2804, 4, 2040, 432, 111, 153, 103, 4, 1494, 13, 70, 131, 67, 11, 61, 2, 744, 35, 3715, 761, 61, 5766, 452, 9214, 4, 985, 7, 2, 59, 166, 4, 105, 216, 1239, 41, 1797, 9, 15, 7, 35, 744, 2413, 31, 8, 4, 687, 23, 4, 2, 7339, 6, 3693, 42, 38, 39, 121, 59, 456, 10, 10, 7, 265, 12, 575, 111, 153, 159, 59, 16, 1447, 21, 25, 586, 482, 39, 4, 96, 59, 716, 12, 4, 172, 65, 9, 579, 11, 6004, 4, 1615, 5, 2, 7, 5168, 17, 13, 7064, 12, 19, 6, 464, 31, 314, 11, 2, 6, 719, 605, 11, 8, 202, 27, 310, 4, 3772, 3501, 8, 2722, 58, 10, 10, 537, 2116, 180, 40, 14, 413, 173, 7, 263, 112, 37, 152, 377, 4, 537, 263, 846, 579, 178, 54, 75, 71, 476, 36, 413, 263, 2504, 182, 5, 17, 75, 2306, 922, 36, 279, 131, 2895, 17, 2867, 42, 17, 35, 921, 2, 192, 5, 1219, 3890, 19, 2, 217, 4122, 1710, 537, 2, 1236, 5, 736, 10, 10, 61, 403, 9, 2, 40, 61, 4494, 5, 27, 4494, 159, 90, 263, 2311, 4319, 309, 8, 178, 5, 82, 4319, 4, 65, 15, 9225, 145, 143, 5122, 12, 7039, 537, 746, 537, 537, 15, 7979, 4, 2, 594, 7, 5168, 94, 9096, 3987, 2, 11, 2, 4, 538, 7, 1795, 246, 2, 9, 2, 11, 635, 14, 9, 51, 408, 12, 94, 318, 1382, 12, 47, 6, 2683, 936, 5, 6307, 2, 19, 49, 7, 4, 1885, 2, 1118, 25, 80, 126, 842, 10, 10, 2, 2, 4726, 27, 4494, 11, 1550, 3633, 159, 27, 341, 29, 2733, 19, 4185, 173, 7, 90, 2, 8, 30, 11, 4, 1784, 86, 1117, 8, 3261, 46, 11, 2, 21, 29, 9, 2841, 23, 4, 1010, 2, 793, 6, 2, 1386, 1830, 10, 10, 246, 50, 9, 6, 2750, 1944, 746, 90, 29, 2, 8, 124, 4, 882, 4, 882, 496, 27, 2, 2213, 537, 121, 127, 1219, 130, 5, 29, 494, 8, 124, 4, 882, 496, 4, 341, 7, 27, 846, 10, 10, 29, 9, 1906, 8, 97, 6, 236, 2, 1311, 8, 4, 2, 7, 31, 7, 2, 91, 2, 3987, 70, 4, 882, 30, 579, 42, 9, 12, 32, 11, 537, 10, 10, 11, 14, 65, 44, 537, 75, 2, 1775, 3353, 2, 1846, 4, 2, 7, 154, 5, 4, 518, 53, 2, 2, 7, 3211, 882, 11, 399, 38, 75, 257, 3807, 19, 2, 17, 29, 456, 4, 65, 7, 27, 205, 113, 10, 10, 2, 4, 2, 2, 9, 242, 4, 91, 1202, 2, 5, 2070, 307, 22, 7, 5168, 126, 93, 40, 2, 13, 188, 1076, 3222, 19, 4, 2, 7, 2348, 537, 23, 53, 537, 21, 82, 40, 2, 13, 2, 14, 280, 13, 219, 4, 2, 431, 758, 859, 4, 953, 1052, 2, 7, 5991, 5, 94, 40, 25, 238, 60, 2, 4, 2, 804, 2, 7, 4, 9941, 132, 8, 67, 6, 22, 15, 9, 283, 8, 5168, 14, 31, 9, 242, 955, 48, 25, 279, 2, 23, 12, 1685, 195, 25, 238, 60, 796, 2, 4, 671, 7, 2804, 5, 4, 559, 154, 888, 7, 726, 50, 26, 49, 7008, 15, 566, 30, 579, 21, 64, 2574])\n",
            " list([1, 249, 1323, 7, 61, 113, 10, 10, 13, 1637, 14, 20, 56, 33, 2401, 18, 457, 88, 13, 2626, 1400, 45, 3171, 13, 70, 79, 49, 706, 919, 13, 16, 355, 340, 355, 1696, 96, 143, 4, 22, 32, 289, 7, 61, 369, 71, 2359, 5, 13, 16, 131, 2073, 249, 114, 249, 229, 249, 20, 13, 28, 126, 110, 13, 473, 8, 569, 61, 419, 56, 429, 6, 1513, 18, 35, 534, 95, 474, 570, 5, 25, 124, 138, 88, 12, 421, 1543, 52, 725, 6397, 61, 419, 11, 13, 1571, 15, 1543, 20, 11, 4, 2, 5, 296, 12, 3524, 5, 15, 421, 128, 74, 233, 334, 207, 126, 224, 12, 562, 298, 2167, 1272, 7, 2601, 5, 516, 988, 43, 8, 79, 120, 15, 595, 13, 784, 25, 3171, 18, 165, 170, 143, 19, 14, 5, 7224, 6, 226, 251, 7, 61, 113])]\n"
          ]
        }
      ]
    },
    {
      "cell_type": "code",
      "source": [
        "index2word = {v:k for k, v in imdb.get_word_index().items()}\n",
        "\n",
        "for idx_word in X_train[0]:\n",
        "    print(index2word[idx_word], end=' ')"
      ],
      "metadata": {
        "colab": {
          "base_uri": "https://localhost:8080/"
        },
        "id": "uuRS43k0p-XU",
        "outputId": "26885492-7713-4b16-b156-b1caa96f9af1"
      },
      "execution_count": 5,
      "outputs": [
        {
          "output_type": "stream",
          "name": "stdout",
          "text": [
            "Downloading data from https://storage.googleapis.com/tensorflow/tf-keras-datasets/imdb_word_index.json\n",
            "1641221/1641221 [==============================] - 0s 0us/step\n",
            "the as you with out themselves powerful lets loves their becomes reaching had journalist of lot from anyone to have after out atmosphere never more room and it so heart shows to years of every never going and help moments or of every chest visual movie except her was several of enough more with is now current film as you of mine potentially unfortunately of you than him that with out themselves her get for was camp of you movie sometimes movie that with scary but and to story wonderful that in seeing in character to of 70s musicians with heart had shadows they of here that with her serious to have does when from why what have critics they is you that isn't one will very to as itself with other and in of seen over landed for anyone of and br show's to whether from than out themselves history he name half some br of and odd was two most of mean for 1 any an boat she he should is thought frog but of script you not while history he heart to real at barrel but when from one bit then have two of script their with her nobody most that with wasn't to with armed acting watch an for with heartfelt film want an "
          ]
        }
      ]
    },
    {
      "cell_type": "code",
      "source": [
        "print('Pad последовательности (примеров в x единицу времени)')\n",
        "X_train = pad_sequences(X_train, maxlen=maxlen)\n",
        "X_test = pad_sequences(X_test, maxlen=maxlen)\n",
        "print('X_train shape:', X_train.shape)\n",
        "print('X_test shape:', X_test.shape)"
      ],
      "metadata": {
        "colab": {
          "base_uri": "https://localhost:8080/"
        },
        "id": "YuOrYEPyqUoS",
        "outputId": "2a34d984-ac4d-4d1e-ea42-eb147fd1568e"
      },
      "execution_count": 6,
      "outputs": [
        {
          "output_type": "stream",
          "name": "stdout",
          "text": [
            "Pad последовательности (примеров в x единицу времени)\n",
            "X_train shape: (25000, 80)\n",
            "X_test shape: (25000, 80)\n"
          ]
        }
      ]
    },
    {
      "cell_type": "code",
      "source": [
        "X_train[0]"
      ],
      "metadata": {
        "colab": {
          "base_uri": "https://localhost:8080/"
        },
        "id": "z_osLcrxrVHf",
        "outputId": "67124b8b-1ee3-4ebe-fc0f-02175e54873c"
      },
      "execution_count": 7,
      "outputs": [
        {
          "output_type": "execute_result",
          "data": {
            "text/plain": [
              "array([  15,  256,    4,    2,    7, 3766,    5,  723,   36,   71,   43,\n",
              "        530,  476,   26,  400,  317,   46,    7,    4,    2, 1029,   13,\n",
              "        104,   88,    4,  381,   15,  297,   98,   32, 2071,   56,   26,\n",
              "        141,    6,  194, 7486,   18,    4,  226,   22,   21,  134,  476,\n",
              "         26,  480,    5,  144,   30, 5535,   18,   51,   36,   28,  224,\n",
              "         92,   25,  104,    4,  226,   65,   16,   38, 1334,   88,   12,\n",
              "         16,  283,    5,   16, 4472,  113,  103,   32,   15,   16, 5345,\n",
              "         19,  178,   32], dtype=int32)"
            ]
          },
          "metadata": {},
          "execution_count": 7
        }
      ]
    },
    {
      "cell_type": "code",
      "source": [
        "X_test[0]"
      ],
      "metadata": {
        "colab": {
          "base_uri": "https://localhost:8080/"
        },
        "id": "5O3cfKPqreMo",
        "outputId": "ecfa62f8-cdec-4c0a-871c-a502a6fd51e0"
      },
      "execution_count": 8,
      "outputs": [
        {
          "output_type": "execute_result",
          "data": {
            "text/plain": [
              "array([   0,    0,    0,    0,    0,    0,    0,    0,    0,    0,    0,\n",
              "          0,    1,  591,  202,   14,   31,    6,  717,   10,   10,    2,\n",
              "          2,    5,    4,  360,    7,    4,  177, 5760,  394,  354,    4,\n",
              "        123,    9, 1035, 1035, 1035,   10,   10,   13,   92,  124,   89,\n",
              "        488, 7944,  100,   28, 1668,   14,   31,   23,   27, 7479,   29,\n",
              "        220,  468,    8,  124,   14,  286,  170,    8,  157,   46,    5,\n",
              "         27,  239,   16,  179,    2,   38,   32,   25, 7944,  451,  202,\n",
              "         14,    6,  717], dtype=int32)"
            ]
          },
          "metadata": {},
          "execution_count": 8
        }
      ]
    },
    {
      "cell_type": "code",
      "source": [
        "index = imdb.get_word_index()\n",
        "len(index)"
      ],
      "metadata": {
        "colab": {
          "base_uri": "https://localhost:8080/"
        },
        "id": "KWGjRuQ3rkkz",
        "outputId": "4317f0e0-c37e-47a6-9cdf-9b2f36eda723"
      },
      "execution_count": 9,
      "outputs": [
        {
          "output_type": "execute_result",
          "data": {
            "text/plain": [
              "88584"
            ]
          },
          "metadata": {},
          "execution_count": 9
        }
      ]
    },
    {
      "cell_type": "code",
      "source": [
        "np.max(X_train)"
      ],
      "metadata": {
        "colab": {
          "base_uri": "https://localhost:8080/"
        },
        "id": "Ym9nICO4roYe",
        "outputId": "5a889a8e-266c-4baa-c724-f2f7df34b9a5"
      },
      "execution_count": 10,
      "outputs": [
        {
          "output_type": "execute_result",
          "data": {
            "text/plain": [
              "9999"
            ]
          },
          "metadata": {},
          "execution_count": 10
        }
      ]
    },
    {
      "cell_type": "markdown",
      "source": [
        "# Bag of Word"
      ],
      "metadata": {
        "id": "X_pne5D5sFek"
      }
    },
    {
      "cell_type": "code",
      "source": [
        "def vectorize(sequences, dimension=10_000):\n",
        "    results = np.zeros((len(sequences), dimension))\n",
        "    for i, sequence in enumerate(sequences):\n",
        "        results[i, sequence] = 1\n",
        "    return results\n",
        "\n",
        "X_train_bow = vectorize(X_train, dimension=max_features)\n",
        "X_test_bow = vectorize(X_test, dimension=max_features)"
      ],
      "metadata": {
        "id": "R3kMaUjnr6AI"
      },
      "execution_count": 11,
      "outputs": []
    },
    {
      "cell_type": "code",
      "source": [
        "X_train_bow.shape"
      ],
      "metadata": {
        "colab": {
          "base_uri": "https://localhost:8080/"
        },
        "id": "sUZl8Pw7sLnh",
        "outputId": "b6640e91-601e-4a69-83b2-26284c345991"
      },
      "execution_count": 12,
      "outputs": [
        {
          "output_type": "execute_result",
          "data": {
            "text/plain": [
              "(25000, 10000)"
            ]
          },
          "metadata": {},
          "execution_count": 12
        }
      ]
    },
    {
      "cell_type": "code",
      "source": [
        "X_train_bow[0:, :10]"
      ],
      "metadata": {
        "colab": {
          "base_uri": "https://localhost:8080/"
        },
        "id": "UWGJq-t8sMwN",
        "outputId": "27532dd9-33fb-4a99-b161-d9040614148d"
      },
      "execution_count": 13,
      "outputs": [
        {
          "output_type": "execute_result",
          "data": {
            "text/plain": [
              "array([[0., 0., 1., ..., 1., 0., 0.],\n",
              "       [0., 0., 1., ..., 0., 1., 1.],\n",
              "       [0., 0., 1., ..., 1., 1., 1.],\n",
              "       ...,\n",
              "       [0., 0., 1., ..., 1., 0., 0.],\n",
              "       [0., 0., 1., ..., 1., 1., 1.],\n",
              "       [0., 0., 1., ..., 1., 1., 1.]])"
            ]
          },
          "metadata": {},
          "execution_count": 13
        }
      ]
    },
    {
      "cell_type": "markdown",
      "source": [
        "Построим модель"
      ],
      "metadata": {
        "id": "rrYcan_QsXyM"
      }
    },
    {
      "cell_type": "code",
      "source": [
        "model_bow = Sequential()\n",
        "\n",
        "model_bow.add(Dense(128, activation='relu', input_shape=(max_features, )))\n",
        "model_bow.add(Dense(1, activation='sigmoid'))\n",
        "\n",
        "# стоит попробовать использовать другие оптимизаторы и другие конфигурации\n",
        "model_bow.compile(loss='binary_crossentropy',\n",
        "                  optimizer='adam',\n",
        "                  metrics=['accuracy'])\n",
        "model_bow.summary()"
      ],
      "metadata": {
        "colab": {
          "base_uri": "https://localhost:8080/"
        },
        "id": "9KfmXJaosZfr",
        "outputId": "46828fb2-141e-4267-fdcb-34d5153e883d"
      },
      "execution_count": 14,
      "outputs": [
        {
          "output_type": "stream",
          "name": "stdout",
          "text": [
            "Model: \"sequential\"\n",
            "_________________________________________________________________\n",
            " Layer (type)                Output Shape              Param #   \n",
            "=================================================================\n",
            " dense (Dense)               (None, 128)               1280128   \n",
            "                                                                 \n",
            " dense_1 (Dense)             (None, 1)                 129       \n",
            "                                                                 \n",
            "=================================================================\n",
            "Total params: 1,280,257\n",
            "Trainable params: 1,280,257\n",
            "Non-trainable params: 0\n",
            "_________________________________________________________________\n"
          ]
        }
      ]
    },
    {
      "cell_type": "markdown",
      "source": [
        "Обучение модели"
      ],
      "metadata": {
        "id": "bCUSaF6rsiCb"
      }
    },
    {
      "cell_type": "code",
      "source": [
        "model_bow.fit(X_train_bow[:], y_train[:],\n",
        "              batch_size=batch_size,\n",
        "              epochs=3,\n",
        "              validation_data=(X_test_bow, y_test))"
      ],
      "metadata": {
        "colab": {
          "base_uri": "https://localhost:8080/"
        },
        "id": "vzgU836oskEd",
        "outputId": "b7d05ff9-af43-428b-a994-bde5ae6dd87d"
      },
      "execution_count": 15,
      "outputs": [
        {
          "output_type": "stream",
          "name": "stdout",
          "text": [
            "Epoch 1/3\n",
            "500/500 [==============================] - 16s 30ms/step - loss: 0.4015 - accuracy: 0.8164 - val_loss: 0.3616 - val_accuracy: 0.8373\n",
            "Epoch 2/3\n",
            "500/500 [==============================] - 16s 32ms/step - loss: 0.2574 - accuracy: 0.8910 - val_loss: 0.3934 - val_accuracy: 0.8274\n",
            "Epoch 3/3\n",
            "500/500 [==============================] - 13s 26ms/step - loss: 0.1717 - accuracy: 0.9334 - val_loss: 0.4456 - val_accuracy: 0.8237\n"
          ]
        },
        {
          "output_type": "execute_result",
          "data": {
            "text/plain": [
              "<keras.callbacks.History at 0x7f175e737490>"
            ]
          },
          "metadata": {},
          "execution_count": 15
        }
      ]
    },
    {
      "cell_type": "markdown",
      "source": [
        "Валидация модели"
      ],
      "metadata": {
        "id": "8SJbRofEswh4"
      }
    },
    {
      "cell_type": "code",
      "source": [
        "score, acc = model_bow.evaluate(X_test_bow, y_test, batch_size=batch_size)"
      ],
      "metadata": {
        "colab": {
          "base_uri": "https://localhost:8080/"
        },
        "id": "aksKG3ZPsygk",
        "outputId": "c9200b61-4625-4826-cecd-8ad843ad0b92"
      },
      "execution_count": 16,
      "outputs": [
        {
          "output_type": "stream",
          "name": "stdout",
          "text": [
            "500/500 [==============================] - 4s 7ms/step - loss: 0.4456 - accuracy: 0.8237\n"
          ]
        }
      ]
    },
    {
      "cell_type": "markdown",
      "source": [
        "Обучение на последовательности"
      ],
      "metadata": {
        "id": "P5diZfPOs5vZ"
      }
    },
    {
      "cell_type": "code",
      "source": [
        "def vectorize_seq(sequences, xLen=100):\n",
        "    results = np.zeros((len(sequences), xLen, 1))\n",
        "    for i, sequence in enumerate(sequences):\n",
        "        for j in range(xLen):\n",
        "            results[i, j,:] = sequence[j]\n",
        "    return results\n",
        "\n",
        "X_train_seq = vectorize_seq(X_train, xLen=maxlen)\n",
        "X_test_seq = vectorize_seq(X_test, xLen=maxlen)"
      ],
      "metadata": {
        "id": "t2rgAOiAs8Hl"
      },
      "execution_count": 17,
      "outputs": []
    },
    {
      "cell_type": "code",
      "source": [
        "X_test.shape, X_test_seq.shape"
      ],
      "metadata": {
        "colab": {
          "base_uri": "https://localhost:8080/"
        },
        "id": "kw_aWi1ytGU6",
        "outputId": "207ce774-541c-4cd6-8d5a-8888d3966b67"
      },
      "execution_count": 18,
      "outputs": [
        {
          "output_type": "execute_result",
          "data": {
            "text/plain": [
              "((25000, 80), (25000, 80, 1))"
            ]
          },
          "metadata": {},
          "execution_count": 18
        }
      ]
    },
    {
      "cell_type": "code",
      "source": [
        "display(X_train[0, :10], X_train_seq[0, :10])"
      ],
      "metadata": {
        "colab": {
          "base_uri": "https://localhost:8080/",
          "height": 221
        },
        "id": "NlJQPA0CtJVi",
        "outputId": "5d1b8b80-1807-42ee-daae-7ae041d19df1"
      },
      "execution_count": 19,
      "outputs": [
        {
          "output_type": "display_data",
          "data": {
            "text/plain": [
              "array([  15,  256,    4,    2,    7, 3766,    5,  723,   36,   71],\n",
              "      dtype=int32)"
            ]
          },
          "metadata": {}
        },
        {
          "output_type": "display_data",
          "data": {
            "text/plain": [
              "array([[1.500e+01],\n",
              "       [2.560e+02],\n",
              "       [4.000e+00],\n",
              "       [2.000e+00],\n",
              "       [7.000e+00],\n",
              "       [3.766e+03],\n",
              "       [5.000e+00],\n",
              "       [7.230e+02],\n",
              "       [3.600e+01],\n",
              "       [7.100e+01]])"
            ]
          },
          "metadata": {}
        }
      ]
    },
    {
      "cell_type": "markdown",
      "source": [
        "Построение модели"
      ],
      "metadata": {
        "id": "pmYNejHUtPAy"
      }
    },
    {
      "cell_type": "code",
      "source": [
        "model = Sequential()\n",
        "model.add(LSTM(128, input_shape=(maxlen, 1)))\n",
        "model.add(Dense(1, activation='sigmoid'))\n",
        "\n",
        "# стоит попробовать использовать другие оптимизаторы и другие конфигурации\n",
        "model.compile(loss='binary_crossentropy',\n",
        "              optimizer='adam',\n",
        "              metrics=['accuracy'])\n",
        "model.summary()"
      ],
      "metadata": {
        "colab": {
          "base_uri": "https://localhost:8080/"
        },
        "id": "NJu1HMwUtRcp",
        "outputId": "b6f12f72-18da-4ea3-bbb0-3445ca54a205"
      },
      "execution_count": 20,
      "outputs": [
        {
          "output_type": "stream",
          "name": "stdout",
          "text": [
            "Model: \"sequential_1\"\n",
            "_________________________________________________________________\n",
            " Layer (type)                Output Shape              Param #   \n",
            "=================================================================\n",
            " lstm (LSTM)                 (None, 128)               66560     \n",
            "                                                                 \n",
            " dense_2 (Dense)             (None, 1)                 129       \n",
            "                                                                 \n",
            "=================================================================\n",
            "Total params: 66,689\n",
            "Trainable params: 66,689\n",
            "Non-trainable params: 0\n",
            "_________________________________________________________________\n"
          ]
        }
      ]
    },
    {
      "cell_type": "markdown",
      "source": [
        "Процесс обучения"
      ],
      "metadata": {
        "id": "uMYPYxg-tdwc"
      }
    },
    {
      "cell_type": "code",
      "source": [
        "model.fit(X_train_seq, y_train,\n",
        "          batch_size=1000,\n",
        "          epochs=5,\n",
        "          validation_data=(X_test_seq, y_test))"
      ],
      "metadata": {
        "colab": {
          "base_uri": "https://localhost:8080/"
        },
        "id": "8nbs_-v6tfpY",
        "outputId": "d8b89553-1412-4d73-bc88-2cc9ee4f698c"
      },
      "execution_count": 21,
      "outputs": [
        {
          "output_type": "stream",
          "name": "stdout",
          "text": [
            "Epoch 1/5\n",
            "25/25 [==============================] - 51s 2s/step - loss: 0.7011 - accuracy: 0.5090 - val_loss: 0.6909 - val_accuracy: 0.5266\n",
            "Epoch 2/5\n",
            "25/25 [==============================] - 48s 2s/step - loss: 0.6900 - accuracy: 0.5344 - val_loss: 0.6889 - val_accuracy: 0.5396\n",
            "Epoch 3/5\n",
            "25/25 [==============================] - 39s 2s/step - loss: 0.6878 - accuracy: 0.5420 - val_loss: 0.6865 - val_accuracy: 0.5469\n",
            "Epoch 4/5\n",
            "25/25 [==============================] - 39s 2s/step - loss: 0.6865 - accuracy: 0.5448 - val_loss: 0.6892 - val_accuracy: 0.5380\n",
            "Epoch 5/5\n",
            "25/25 [==============================] - 48s 2s/step - loss: 0.6847 - accuracy: 0.5544 - val_loss: 0.6851 - val_accuracy: 0.5516\n"
          ]
        },
        {
          "output_type": "execute_result",
          "data": {
            "text/plain": [
              "<keras.callbacks.History at 0x7f17648f7130>"
            ]
          },
          "metadata": {},
          "execution_count": 21
        }
      ]
    },
    {
      "cell_type": "markdown",
      "source": [
        "Валидация модели"
      ],
      "metadata": {
        "id": "FiGwbeBetlN5"
      }
    },
    {
      "cell_type": "code",
      "source": [
        "score, acc = model.evaluate(X_test_seq, y_test, batch_size=batch_size)"
      ],
      "metadata": {
        "colab": {
          "base_uri": "https://localhost:8080/"
        },
        "id": "DS4SKc2HtnQt",
        "outputId": "41170a0c-71fb-49c7-8237-c0d40921c552"
      },
      "execution_count": 22,
      "outputs": [
        {
          "output_type": "stream",
          "name": "stdout",
          "text": [
            "500/500 [==============================] - 26s 51ms/step - loss: 0.6851 - accuracy: 0.5516\n"
          ]
        }
      ]
    },
    {
      "cell_type": "markdown",
      "source": [
        "# Embedding\n",
        "Сеть обучилась не очень хорошо, попробуем использовать эмбединги (векторное представление слов)"
      ],
      "metadata": {
        "id": "mSHufvIouKYb"
      }
    },
    {
      "cell_type": "code",
      "source": [
        "model = Sequential()\n",
        "model.add(Embedding(max_features, 128))"
      ],
      "metadata": {
        "id": "sYj7NdbHuXIZ"
      },
      "execution_count": 23,
      "outputs": []
    },
    {
      "cell_type": "code",
      "source": [
        "model.predict(X_train[:1])"
      ],
      "metadata": {
        "colab": {
          "base_uri": "https://localhost:8080/"
        },
        "id": "IKN31gbCugpK",
        "outputId": "20cced31-4b8b-4d75-eb9a-1e96a4559814"
      },
      "execution_count": 24,
      "outputs": [
        {
          "output_type": "stream",
          "name": "stdout",
          "text": [
            "1/1 [==============================] - 0s 98ms/step\n"
          ]
        },
        {
          "output_type": "execute_result",
          "data": {
            "text/plain": [
              "array([[[ 0.00053264,  0.00280992, -0.01371355, ..., -0.03208148,\n",
              "          0.04791012,  0.04338063],\n",
              "        [-0.04556995, -0.00722599, -0.00829094, ...,  0.02314743,\n",
              "         -0.02283702, -0.03853351],\n",
              "        [-0.03946695,  0.01515568, -0.02263357, ..., -0.01271365,\n",
              "         -0.03176667,  0.04170448],\n",
              "        ...,\n",
              "        [ 0.02767596,  0.02314377, -0.03306659, ..., -0.02115984,\n",
              "          0.04225365, -0.01397163],\n",
              "        [ 0.01130091,  0.00128198, -0.00617618, ..., -0.01216936,\n",
              "         -0.00332023,  0.02798034],\n",
              "        [-0.01409321,  0.03967512, -0.04798733, ...,  0.01071952,\n",
              "          0.01599154, -0.00113124]]], dtype=float32)"
            ]
          },
          "metadata": {},
          "execution_count": 24
        }
      ]
    },
    {
      "cell_type": "code",
      "source": [
        "model.predict(X_train[:1]).shape"
      ],
      "metadata": {
        "colab": {
          "base_uri": "https://localhost:8080/"
        },
        "id": "lv5DtvEJunew",
        "outputId": "0c24f1de-131c-4210-9a2c-a5a49b3e77d0"
      },
      "execution_count": 25,
      "outputs": [
        {
          "output_type": "stream",
          "name": "stdout",
          "text": [
            "1/1 [==============================] - 0s 23ms/step\n"
          ]
        },
        {
          "output_type": "execute_result",
          "data": {
            "text/plain": [
              "(1, 80, 128)"
            ]
          },
          "metadata": {},
          "execution_count": 25
        }
      ]
    },
    {
      "cell_type": "markdown",
      "source": [
        "Построение модели"
      ],
      "metadata": {
        "id": "plfubBSdusmT"
      }
    },
    {
      "cell_type": "code",
      "source": [
        "model = Sequential()\n",
        "model.add(Embedding(max_features, 128))\n",
        "model.add(Dropout(0.3))\n",
        "model.add(LSTM(128, dropout=0.2))\n",
        "model.add(Dense(1, activation='sigmoid'))\n",
        "\n",
        "model.compile(loss='binary_crossentropy',\n",
        "              optimizer='adam',\n",
        "              metrics=['accuracy'])\n",
        "model.summary()"
      ],
      "metadata": {
        "colab": {
          "base_uri": "https://localhost:8080/"
        },
        "id": "R7KN46dyuuDF",
        "outputId": "0bc0d1e7-f8b8-4859-a65e-7830cd9ce2c0"
      },
      "execution_count": 26,
      "outputs": [
        {
          "output_type": "stream",
          "name": "stdout",
          "text": [
            "Model: \"sequential_3\"\n",
            "_________________________________________________________________\n",
            " Layer (type)                Output Shape              Param #   \n",
            "=================================================================\n",
            " embedding_1 (Embedding)     (None, None, 128)         1280000   \n",
            "                                                                 \n",
            " dropout (Dropout)           (None, None, 128)         0         \n",
            "                                                                 \n",
            " lstm_1 (LSTM)               (None, 128)               131584    \n",
            "                                                                 \n",
            " dense_3 (Dense)             (None, 1)                 129       \n",
            "                                                                 \n",
            "=================================================================\n",
            "Total params: 1,411,713\n",
            "Trainable params: 1,411,713\n",
            "Non-trainable params: 0\n",
            "_________________________________________________________________\n"
          ]
        }
      ]
    },
    {
      "cell_type": "markdown",
      "source": [
        "Обучение модели"
      ],
      "metadata": {
        "id": "eqgAbrnTvKyD"
      }
    },
    {
      "cell_type": "code",
      "source": [
        "model.fit(X_train, y_train,\n",
        "          batch_size=128,\n",
        "          epochs=3,\n",
        "          validation_data=(X_test, y_test))"
      ],
      "metadata": {
        "colab": {
          "base_uri": "https://localhost:8080/"
        },
        "id": "EiH4NBVgvMh6",
        "outputId": "541fb367-568a-4015-c5e5-b1d884030bc9"
      },
      "execution_count": 27,
      "outputs": [
        {
          "metadata": {
            "tags": null
          },
          "name": "stdout",
          "output_type": "stream",
          "text": [
            "Epoch 1/3\n",
            "196/196 [==============================] - 117s 587ms/step - loss: 0.4520 - accuracy: 0.7806 - val_loss: 0.3518 - val_accuracy: 0.8453\n",
            "Epoch 2/3\n",
            "196/196 [==============================] - 94s 478ms/step - loss: 0.2925 - accuracy: 0.8792 - val_loss: 0.3629 - val_accuracy: 0.8392\n",
            "Epoch 3/3\n",
            "196/196 [==============================] - 114s 581ms/step - loss: 0.2400 - accuracy: 0.9030 - val_loss: 0.4240 - val_accuracy: 0.8322\n"
          ]
        },
        {
          "data": {
            "text/plain": [
              "<keras.callbacks.History at 0x7f175e67ce50>"
            ]
          },
          "execution_count": 27,
          "metadata": {},
          "output_type": "execute_result"
        }
      ]
    },
    {
      "cell_type": "markdown",
      "source": [
        "Валидация модели"
      ],
      "metadata": {
        "id": "8mhTFq8JvRXc"
      }
    },
    {
      "cell_type": "code",
      "source": [
        "score, acc = model.evaluate(X_test, y_test, batch_size=batch_size)"
      ],
      "metadata": {
        "colab": {
          "base_uri": "https://localhost:8080/"
        },
        "id": "gzbS60_KvQrK",
        "outputId": "938cb61c-8df8-41e2-8334-ec2307fc8e5a"
      },
      "execution_count": 28,
      "outputs": [
        {
          "output_type": "stream",
          "name": "stdout",
          "text": [
            "500/500 [==============================] - 33s 66ms/step - loss: 0.4240 - accuracy: 0.8322\n"
          ]
        }
      ]
    }
  ]
}