{
  "nbformat": 4,
  "nbformat_minor": 0,
  "metadata": {
    "colab": {
      "provenance": []
    },
    "kernelspec": {
      "name": "python3",
      "display_name": "Python 3"
    },
    "language_info": {
      "name": "python"
    }
  },
  "cells": [
    {
      "cell_type": "markdown",
      "source": [
        "# Clothing image classification"
      ],
      "metadata": {
        "id": "Z7pKBDu4yndy"
      }
    },
    {
      "cell_type": "code",
      "source": [
        "import numpy as np\n",
        "import matplotlib.pyplot as plt"
      ],
      "metadata": {
        "id": "dDcfjKrzyOBh"
      },
      "execution_count": 33,
      "outputs": []
    },
    {
      "cell_type": "code",
      "execution_count": 34,
      "metadata": {
        "colab": {
          "base_uri": "https://localhost:8080/"
        },
        "id": "q1lfTPP5w9a8",
        "outputId": "aaf6a6b7-9681-485d-b897-22fdc44f8c84"
      },
      "outputs": [
        {
          "output_type": "stream",
          "name": "stdout",
          "text": [
            "2.12.0\n"
          ]
        }
      ],
      "source": [
        "import tensorflow as tf\n",
        "print(tf.__version__)"
      ]
    },
    {
      "cell_type": "code",
      "source": [
        "from keras.datasets import fashion_mnist\n",
        "from keras.models import Sequential, Model\n",
        "from keras.layers import Flatten, Input, Dense\n",
        "from keras.utils import to_categorical\n",
        "from keras.optimizers import Adam\n",
        "from keras.losses import CategoricalCrossentropy"
      ],
      "metadata": {
        "id": "Ei4P7hsL0SK7"
      },
      "execution_count": 35,
      "outputs": []
    },
    {
      "cell_type": "code",
      "source": [
        "(X_train, y_train_labels), (X_test, y_test_labels) = fashion_mnist.load_data()"
      ],
      "metadata": {
        "id": "kPp8mZr9yJjW"
      },
      "execution_count": 36,
      "outputs": []
    },
    {
      "cell_type": "code",
      "source": [
        "class_names = ['T-shirt/top',\n",
        "               'Trouser',\n",
        "               'Pullover',\n",
        "               'Dress',\n",
        "               'Coat',\n",
        "               'Sandal',\n",
        "               'Shirt',\n",
        "               'Sneaker',\n",
        "               'Bag',\n",
        "               'Ankle boot']"
      ],
      "metadata": {
        "id": "o578usx32Kt5"
      },
      "execution_count": 37,
      "outputs": []
    },
    {
      "cell_type": "markdown",
      "source": [
        "Посмотрим на train"
      ],
      "metadata": {
        "id": "d5qspSmLzIqi"
      }
    },
    {
      "cell_type": "code",
      "source": [
        "print(X_train.shape)\n",
        "print(y_train_labels.shape)"
      ],
      "metadata": {
        "colab": {
          "base_uri": "https://localhost:8080/"
        },
        "id": "DkUmc9zHyart",
        "outputId": "831c5cd5-6d6c-4619-a02b-0c4ba819b09a"
      },
      "execution_count": 38,
      "outputs": [
        {
          "output_type": "stream",
          "name": "stdout",
          "text": [
            "(60000, 28, 28)\n",
            "(60000,)\n"
          ]
        }
      ]
    },
    {
      "cell_type": "code",
      "source": [
        "y_train_labels"
      ],
      "metadata": {
        "colab": {
          "base_uri": "https://localhost:8080/"
        },
        "id": "2ync38pty_ZH",
        "outputId": "7cc6bc46-8523-40b7-d02f-78c6abfb1566"
      },
      "execution_count": 39,
      "outputs": [
        {
          "output_type": "execute_result",
          "data": {
            "text/plain": [
              "array([9, 0, 0, ..., 3, 0, 5], dtype=uint8)"
            ]
          },
          "metadata": {},
          "execution_count": 39
        }
      ]
    },
    {
      "cell_type": "markdown",
      "source": [
        "Посмотрим на тестовую выборку"
      ],
      "metadata": {
        "id": "vnDu2YvNzMgz"
      }
    },
    {
      "cell_type": "code",
      "source": [
        "print(X_test.shape)\n",
        "print(y_test_labels.shape)"
      ],
      "metadata": {
        "colab": {
          "base_uri": "https://localhost:8080/"
        },
        "id": "4LtIFUNtzQIe",
        "outputId": "f5238a8a-bafb-4ba7-bb6e-a55f50cf2b40"
      },
      "execution_count": 40,
      "outputs": [
        {
          "output_type": "stream",
          "name": "stdout",
          "text": [
            "(10000, 28, 28)\n",
            "(10000,)\n"
          ]
        }
      ]
    },
    {
      "cell_type": "code",
      "source": [
        "y_test_labels"
      ],
      "metadata": {
        "colab": {
          "base_uri": "https://localhost:8080/"
        },
        "id": "4CRu93h_zUqR",
        "outputId": "b284bb69-3627-4375-f80b-88c16592d6a6"
      },
      "execution_count": 41,
      "outputs": [
        {
          "output_type": "execute_result",
          "data": {
            "text/plain": [
              "array([9, 2, 1, ..., 8, 1, 5], dtype=uint8)"
            ]
          },
          "metadata": {},
          "execution_count": 41
        }
      ]
    },
    {
      "cell_type": "code",
      "source": [
        "y_train = to_categorical(y_train_labels)\n",
        "y_test = to_categorical(y_test_labels)"
      ],
      "metadata": {
        "id": "ejrdjGooyxPh"
      },
      "execution_count": 42,
      "outputs": []
    },
    {
      "cell_type": "code",
      "source": [
        "y_train"
      ],
      "metadata": {
        "colab": {
          "base_uri": "https://localhost:8080/"
        },
        "id": "4TNO_vgx1B_9",
        "outputId": "82e9d169-bd4a-4de6-ca62-df22cb4fc071"
      },
      "execution_count": 43,
      "outputs": [
        {
          "output_type": "execute_result",
          "data": {
            "text/plain": [
              "array([[0., 0., 0., ..., 0., 0., 1.],\n",
              "       [1., 0., 0., ..., 0., 0., 0.],\n",
              "       [1., 0., 0., ..., 0., 0., 0.],\n",
              "       ...,\n",
              "       [0., 0., 0., ..., 0., 0., 0.],\n",
              "       [1., 0., 0., ..., 0., 0., 0.],\n",
              "       [0., 0., 0., ..., 0., 0., 0.]], dtype=float32)"
            ]
          },
          "metadata": {},
          "execution_count": 43
        }
      ]
    },
    {
      "cell_type": "markdown",
      "source": [
        "# Подготовка данных"
      ],
      "metadata": {
        "id": "c---d5cD1eoS"
      }
    },
    {
      "cell_type": "code",
      "source": [
        "plt.figure()\n",
        "plt.imshow(X_train[13], cmap=plt.cm.binary)\n",
        "plt.show()"
      ],
      "metadata": {
        "colab": {
          "base_uri": "https://localhost:8080/",
          "height": 430
        },
        "id": "8pd-h6QK1RlC",
        "outputId": "91e0796c-d88d-488a-f69d-3fcb2a0f422c"
      },
      "execution_count": 44,
      "outputs": [
        {
          "output_type": "display_data",
          "data": {
            "text/plain": [
              "<Figure size 640x480 with 1 Axes>"
            ],
            "image/png": "[encoded data removed]"
          },
          "metadata": {}
        }
      ]
    },
    {
      "cell_type": "markdown",
      "source": [
        "Для процесса обучения нейронной сети нам важно перевести данные из диапазона от 0 до 255 в диапазон от 0 до 1:"
      ],
      "metadata": {
        "id": "fcNAKJtE1qfY"
      }
    },
    {
      "cell_type": "code",
      "source": [
        "X_train = X_train / 255.0\n",
        "X_test = X_test / 255.0"
      ],
      "metadata": {
        "id": "sry2A15q1rWY"
      },
      "execution_count": 45,
      "outputs": []
    },
    {
      "cell_type": "code",
      "source": [
        "plt.figure(figsize=(10, 10))\n",
        "\n",
        "for i in range(15):\n",
        "    plt.subplot(5, 5, i+1)\n",
        "    plt.xticks([])\n",
        "    plt.yticks([])\n",
        "    plt.imshow(X_train[i], cmap=plt.cm.binary)\n",
        "    plt.xlabel(class_names[y_train_labels[i]])\n",
        "plt.show()"
      ],
      "metadata": {
        "colab": {
          "base_uri": "https://localhost:8080/",
          "height": 507
        },
        "id": "gJtDvQDC2AN_",
        "outputId": "7f6660ed-b2ae-43d9-b697-dd8a1f21b26a"
      },
      "execution_count": 46,
      "outputs": [
        {
          "output_type": "display_data",
          "data": {
            "text/plain": [
              "<Figure size 1000x1000 with 15 Axes>"
            ],
            "image/png": "[encoded data removed]"
          },
          "metadata": {}
        }
      ]
    },
    {
      "cell_type": "markdown",
      "source": [
        "# Построение модели"
      ],
      "metadata": {
        "id": "ZigomvpZAEl4"
      }
    },
    {
      "cell_type": "code",
      "source": [
        "model = Sequential([\n",
        "    Flatten(input_shape=(28, 28)),\n",
        "    Dense(128, activation='tanh'),\n",
        "    Dense(128, activation='tanh'),\n",
        "    Dense(10)\n",
        "])\n",
        "\n",
        "model.summary()"
      ],
      "metadata": {
        "colab": {
          "base_uri": "https://localhost:8080/"
        },
        "id": "ipaK2isF_N3H",
        "outputId": "d3b75b7d-d5ec-413a-9f6d-27cb3fc09972"
      },
      "execution_count": 47,
      "outputs": [
        {
          "output_type": "stream",
          "name": "stdout",
          "text": [
            "Model: \"sequential_3\"\n",
            "_________________________________________________________________\n",
            " Layer (type)                Output Shape              Param #   \n",
            "=================================================================\n",
            " flatten_3 (Flatten)         (None, 784)               0         \n",
            "                                                                 \n",
            " dense_9 (Dense)             (None, 128)               100480    \n",
            "                                                                 \n",
            " dense_10 (Dense)            (None, 128)               16512     \n",
            "                                                                 \n",
            " dense_11 (Dense)            (None, 10)                1290      \n",
            "                                                                 \n",
            "=================================================================\n",
            "Total params: 118,282\n",
            "Trainable params: 118,282\n",
            "Non-trainable params: 0\n",
            "_________________________________________________________________\n"
          ]
        }
      ]
    },
    {
      "cell_type": "code",
      "source": [
        "inputs = Input(shape=(28, 28))\n",
        "x1 = Flatten()(inputs)\n",
        "x2 = Dense(128, activation='tanh')(x1)\n",
        "x3 = Dense(128, activation='tanh')(x2)\n",
        "outputs = Dense(10)(x3)\n",
        "\n",
        "x1, x2, x3, outputs"
      ],
      "metadata": {
        "colab": {
          "base_uri": "https://localhost:8080/"
        },
        "id": "z6hFhFauAC72",
        "outputId": "0b374bdc-1ba4-499a-abaf-88cdb6f1b3aa"
      },
      "execution_count": 48,
      "outputs": [
        {
          "output_type": "execute_result",
          "data": {
            "text/plain": [
              "(<KerasTensor: shape=(None, 784) dtype=float32 (created by layer 'flatten_4')>,\n",
              " <KerasTensor: shape=(None, 128) dtype=float32 (created by layer 'dense_12')>,\n",
              " <KerasTensor: shape=(None, 128) dtype=float32 (created by layer 'dense_13')>,\n",
              " <KerasTensor: shape=(None, 10) dtype=float32 (created by layer 'dense_14')>)"
            ]
          },
          "metadata": {},
          "execution_count": 48
        }
      ]
    },
    {
      "cell_type": "code",
      "source": [
        "model = Model(inputs, outputs)\n",
        "model.summary()"
      ],
      "metadata": {
        "colab": {
          "base_uri": "https://localhost:8080/"
        },
        "id": "7FQiCYi5BQQL",
        "outputId": "84b2e56b-f83d-47c6-82a1-98838739d664"
      },
      "execution_count": 49,
      "outputs": [
        {
          "output_type": "stream",
          "name": "stdout",
          "text": [
            "Model: \"model_1\"\n",
            "_________________________________________________________________\n",
            " Layer (type)                Output Shape              Param #   \n",
            "=================================================================\n",
            " input_2 (InputLayer)        [(None, 28, 28)]          0         \n",
            "                                                                 \n",
            " flatten_4 (Flatten)         (None, 784)               0         \n",
            "                                                                 \n",
            " dense_12 (Dense)            (None, 128)               100480    \n",
            "                                                                 \n",
            " dense_13 (Dense)            (None, 128)               16512     \n",
            "                                                                 \n",
            " dense_14 (Dense)            (None, 10)                1290      \n",
            "                                                                 \n",
            "=================================================================\n",
            "Total params: 118,282\n",
            "Trainable params: 118,282\n",
            "Non-trainable params: 0\n",
            "_________________________________________________________________\n"
          ]
        }
      ]
    },
    {
      "cell_type": "code",
      "source": [
        "model.compile(optimizer=Adam(),\n",
        "              loss=CategoricalCrossentropy(from_logits=True),\n",
        "              metrics=['accuracy'])"
      ],
      "metadata": {
        "id": "F7R8AcuBCz2X"
      },
      "execution_count": 50,
      "outputs": []
    },
    {
      "cell_type": "code",
      "source": [
        "model.fit(X_train, y_train,\n",
        "          epochs=10,\n",
        "          batch_size=256,\n",
        "          validation_data=(X_test, y_test))"
      ],
      "metadata": {
        "colab": {
          "base_uri": "https://localhost:8080/"
        },
        "id": "frQx4ZrQDUyZ",
        "outputId": "8dc0d148-2f4c-4210-8810-d1d2b2234dde"
      },
      "execution_count": 51,
      "outputs": [
        {
          "output_type": "stream",
          "name": "stdout",
          "text": [
            "Epoch 1/10\n",
            "235/235 [==============================] - 2s 6ms/step - loss: 0.5517 - accuracy: 0.8056 - val_loss: 0.4396 - val_accuracy: 0.8423\n",
            "Epoch 2/10\n",
            "235/235 [==============================] - 1s 5ms/step - loss: 0.3906 - accuracy: 0.8594 - val_loss: 0.4050 - val_accuracy: 0.8541\n",
            "Epoch 3/10\n",
            "235/235 [==============================] - 1s 5ms/step - loss: 0.3526 - accuracy: 0.8733 - val_loss: 0.3994 - val_accuracy: 0.8583\n",
            "Epoch 4/10\n",
            "235/235 [==============================] - 1s 5ms/step - loss: 0.3347 - accuracy: 0.8793 - val_loss: 0.3773 - val_accuracy: 0.8618\n",
            "Epoch 5/10\n",
            "235/235 [==============================] - 1s 5ms/step - loss: 0.3159 - accuracy: 0.8840 - val_loss: 0.3552 - val_accuracy: 0.8740\n",
            "Epoch 6/10\n",
            "235/235 [==============================] - 2s 6ms/step - loss: 0.3009 - accuracy: 0.8896 - val_loss: 0.3630 - val_accuracy: 0.8703\n",
            "Epoch 7/10\n",
            "235/235 [==============================] - 1s 5ms/step - loss: 0.2873 - accuracy: 0.8936 - val_loss: 0.3395 - val_accuracy: 0.8804\n",
            "Epoch 8/10\n",
            "235/235 [==============================] - 1s 5ms/step - loss: 0.2731 - accuracy: 0.8996 - val_loss: 0.3502 - val_accuracy: 0.8701\n",
            "Epoch 9/10\n",
            "235/235 [==============================] - 1s 5ms/step - loss: 0.2657 - accuracy: 0.9015 - val_loss: 0.3421 - val_accuracy: 0.8763\n",
            "Epoch 10/10\n",
            "235/235 [==============================] - 1s 5ms/step - loss: 0.2577 - accuracy: 0.9049 - val_loss: 0.3356 - val_accuracy: 0.8814\n"
          ]
        },
        {
          "output_type": "execute_result",
          "data": {
            "text/plain": [
              "<keras.callbacks.History at 0x7f02305b8e80>"
            ]
          },
          "metadata": {},
          "execution_count": 51
        }
      ]
    },
    {
      "cell_type": "code",
      "source": [
        "test_loss, test_acc = model.evaluate(X_test, y_test, verbose=1)\n",
        "print('Test accuracy', test_acc)"
      ],
      "metadata": {
        "colab": {
          "base_uri": "https://localhost:8080/"
        },
        "id": "TQDnLLcTDxbw",
        "outputId": "c4faf688-235d-45f5-fd4d-e68e21e8e25d"
      },
      "execution_count": 52,
      "outputs": [
        {
          "output_type": "stream",
          "name": "stdout",
          "text": [
            "313/313 [==============================] - 0s 1ms/step - loss: 0.3356 - accuracy: 0.8814\n",
            "Test accuracy 0.8813999891281128\n"
          ]
        }
      ]
    },
    {
      "cell_type": "code",
      "source": [
        "model.predict(X_test[:1])"
      ],
      "metadata": {
        "colab": {
          "base_uri": "https://localhost:8080/"
        },
        "id": "eq7S9iXjEkOx",
        "outputId": "f8e09fea-e2f8-4159-a166-90c2716f48d1"
      },
      "execution_count": 53,
      "outputs": [
        {
          "output_type": "stream",
          "name": "stdout",
          "text": [
            "1/1 [==============================] - 0s 42ms/step\n"
          ]
        },
        {
          "output_type": "execute_result",
          "data": {
            "text/plain": [
              "array([[-4.130503  , -6.336127  , -0.82381636, -1.4336635 , -0.9925636 ,\n",
              "         4.498449  , -1.5609059 ,  4.656264  , -1.745944  ,  9.564337  ]],\n",
              "      dtype=float32)"
            ]
          },
          "metadata": {},
          "execution_count": 53
        }
      ]
    },
    {
      "cell_type": "code",
      "source": [
        "y_test[:1]"
      ],
      "metadata": {
        "colab": {
          "base_uri": "https://localhost:8080/"
        },
        "id": "nSwQoAqVEzWc",
        "outputId": "9a21c9b5-174d-4ffc-aa9c-ffaddd95a337"
      },
      "execution_count": 54,
      "outputs": [
        {
          "output_type": "execute_result",
          "data": {
            "text/plain": [
              "array([[0., 0., 0., 0., 0., 0., 0., 0., 0., 1.]], dtype=float32)"
            ]
          },
          "metadata": {},
          "execution_count": 54
        }
      ]
    },
    {
      "cell_type": "markdown",
      "source": [
        "# Посмотрим на предсказание сети"
      ],
      "metadata": {
        "id": "nLfjbeCCHwtY"
      }
    },
    {
      "cell_type": "code",
      "source": [
        "probability_model = Sequential([model,\n",
        "                                tf.keras.layers.Softmax()\n",
        "                                ])"
      ],
      "metadata": {
        "id": "6JEPfN2qH3fS"
      },
      "execution_count": 55,
      "outputs": []
    },
    {
      "cell_type": "code",
      "source": [
        "predictions = probability_model.predict(X_test)"
      ],
      "metadata": {
        "colab": {
          "base_uri": "https://localhost:8080/"
        },
        "id": "OkQ6BTENILoA",
        "outputId": "0bf2961f-b5a9-44c1-eac8-5168d9211e32"
      },
      "execution_count": 56,
      "outputs": [
        {
          "output_type": "stream",
          "name": "stdout",
          "text": [
            "313/313 [==============================] - 0s 1ms/step\n"
          ]
        }
      ]
    },
    {
      "cell_type": "code",
      "source": [
        "predictions[0]"
      ],
      "metadata": {
        "colab": {
          "base_uri": "https://localhost:8080/"
        },
        "id": "0z-y0-ezIUlU",
        "outputId": "1f6d744e-f6cc-4c45-b033-6ca4719b36eb"
      },
      "execution_count": 57,
      "outputs": [
        {
          "output_type": "execute_result",
          "data": {
            "text/plain": [
              "array([1.1129035e-06, 1.2262193e-07, 3.0376237e-05, 1.6507463e-05,\n",
              "       2.5659447e-05, 6.2224865e-03, 1.4535146e-05, 7.2862175e-03,\n",
              "       1.2079769e-05, 9.8639089e-01], dtype=float32)"
            ]
          },
          "metadata": {},
          "execution_count": 57
        }
      ]
    },
    {
      "cell_type": "code",
      "source": [
        "np.argmax(predictions[0])"
      ],
      "metadata": {
        "colab": {
          "base_uri": "https://localhost:8080/"
        },
        "id": "h0gDZ6ojIbMA",
        "outputId": "e750f051-f45b-45d3-b0b5-1e0921314258"
      },
      "execution_count": 58,
      "outputs": [
        {
          "output_type": "execute_result",
          "data": {
            "text/plain": [
              "9"
            ]
          },
          "metadata": {},
          "execution_count": 58
        }
      ]
    },
    {
      "cell_type": "code",
      "source": [
        "y_test_labels[0]"
      ],
      "metadata": {
        "colab": {
          "base_uri": "https://localhost:8080/"
        },
        "id": "s_SWgOkwIf51",
        "outputId": "670e6d9b-cc60-435b-d79a-896cd9778520"
      },
      "execution_count": 59,
      "outputs": [
        {
          "output_type": "execute_result",
          "data": {
            "text/plain": [
              "9"
            ]
          },
          "metadata": {},
          "execution_count": 59
        }
      ]
    },
    {
      "cell_type": "code",
      "source": [
        "def plot_image(i, predictions_array, true_label, img):\n",
        "    predictions_array, true_label, img = predictions_array[i], true_label[i], img[i]\n",
        "    plt.grid(False)\n",
        "    plt.xticks([])\n",
        "    plt.yticks([])\n",
        "\n",
        "    plt.imshow(img, cmap=plt.cm.binary)\n",
        "\n",
        "    predicted_label = np.argmax(predictions_array)\n",
        "    if predicted_label == true_label:\n",
        "        color = 'blue'\n",
        "    else:\n",
        "        color = 'red'\n",
        "\n",
        "    plt.xlabel(\"{} {:2.0f}% ({})\".format(class_names[predicted_label],\n",
        "                                         100*np.max(predictions_array),\n",
        "                                         class_names[true_label]),\n",
        "                                         color=color)\n",
        "\n",
        "def plot_value_array(i, predictions_array, true_label):\n",
        "    predictions_array, true_label = predictions_array[i], true_label[i]\n",
        "    plt.grid(False)\n",
        "    plt.xticks(range(10))\n",
        "    plt.yticks([])\n",
        "    thisplot = plt.bar(range(10), predictions_array, color=\"#777777\")\n",
        "    plt.ylim([0, 1])\n",
        "    predicted_label = np.argmax(predictions_array)\n",
        "\n",
        "    thisplot[predicted_label].set_color('red')\n",
        "    thisplot[true_label].set_color('blue')"
      ],
      "metadata": {
        "id": "5rRSWkzjImNO"
      },
      "execution_count": 60,
      "outputs": []
    },
    {
      "cell_type": "markdown",
      "source": [
        "# Проверим предсказания модели"
      ],
      "metadata": {
        "id": "1r_FG8V2IuHU"
      }
    },
    {
      "cell_type": "code",
      "source": [
        "num_rows = 5\n",
        "num_cols = 3\n",
        "num_images = num_rows * num_cols\n",
        "plt.figure(figsize=(2 * 2 * num_cols, 2 * num_rows))\n",
        "\n",
        "for i in range(num_images):\n",
        "    plt.subplot(num_rows, 2 * num_cols, 2 * i + 1)\n",
        "    plot_image(i, predictions, y_test_labels, X_test)\n",
        "    plt.subplot(num_rows, 2 * num_cols, 2 * i + 2)\n",
        "    plot_value_array(i, predictions, y_test_labels)\n",
        "\n",
        "\n",
        "plt.tight_layout()\n",
        "plt.show()"
      ],
      "metadata": {
        "colab": {
          "base_uri": "https://localhost:8080/",
          "height": 1000
        },
        "id": "DwTbGylpIxIK",
        "outputId": "66c43d9d-bf79-4077-8492-642f00978577"
      },
      "execution_count": 61,
      "outputs": [
        {
          "output_type": "display_data",
          "data": {
            "text/plain": [
              "<Figure size 1200x1000 with 30 Axes>"
            ],
            "image/png": "[encoded data removed]"
          },
          "metadata": {}
        }
      ]
    },
    {
      "cell_type": "markdown",
      "source": [
        "# Вывод"
      ],
      "metadata": {
        "id": "L5KGIrbBdADf"
      }
    },
    {
      "cell_type": "markdown",
      "source": [
        " Два скрытых слоя по 128 нейронов в каждом и функция активации tanh сделали своё дело. Из оптимизаторов остановился на Adam"
      ],
      "metadata": {
        "id": "t0A_IZzuctQj"
      }
    }
  ]
}