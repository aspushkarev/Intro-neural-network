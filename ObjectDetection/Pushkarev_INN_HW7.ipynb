{
  "nbformat": 4,
  "nbformat_minor": 0,
  "metadata": {
    "colab": {
      "provenance": [],
      "gpuType": "T4"
    },
    "kernelspec": {
      "name": "python3",
      "display_name": "Python 3"
    },
    "language_info": {
      "name": "python"
    },
    "accelerator": "GPU"
  },
  "cells": [
    {
      "cell_type": "markdown",
      "source": [
        "# Object detection"
      ],
      "metadata": {
        "id": "G9IyFTwmVSyH"
      }
    },
    {
      "cell_type": "markdown",
      "source": [
        "https://github.com/OlafenwaMoses/ImageAI/tree/master/imageai/Detection#firstobjectdetectionpy"
      ],
      "metadata": {
        "id": "CExzO6VeCiQv"
      }
    },
    {
      "cell_type": "code",
      "source": [
        "!pip install imageai"
      ],
      "metadata": {
        "colab": {
          "base_uri": "https://localhost:8080/"
        },
        "id": "QGJNtcp86iA2",
        "outputId": "8a52f7a9-8952-4bc4-cd42-0bb99e9576bc"
      },
      "execution_count": 26,
      "outputs": [
        {
          "output_type": "stream",
          "name": "stdout",
          "text": [
            "Looking in indexes: https://pypi.org/simple, https://us-python.pkg.dev/colab-wheels/public/simple/\n",
            "Requirement already satisfied: imageai in /usr/local/lib/python3.10/dist-packages (3.0.3)\n"
          ]
        }
      ]
    },
    {
      "cell_type": "code",
      "execution_count": 27,
      "metadata": {
        "colab": {
          "base_uri": "https://localhost:8080/"
        },
        "id": "aZI0YbqWgPHX",
        "outputId": "ea161b1a-6855-42b6-c50c-8a0490c74440"
      },
      "outputs": [
        {
          "output_type": "stream",
          "name": "stdout",
          "text": [
            "person  :  100.0  :  [1255, 145, 1574, 1100]\n",
            "--------------------------------\n",
            "person  :  100.0  :  [939, 336, 1232, 1019]\n",
            "--------------------------------\n",
            "person  :  99.99  :  [146, 278, 557, 1112]\n",
            "--------------------------------\n",
            "person  :  99.97  :  [59, 161, 357, 624]\n",
            "--------------------------------\n",
            "bicycle  :  99.88  :  [788, 658, 1398, 1146]\n",
            "--------------------------------\n",
            "truck  :  98.71  :  [1138, 19, 1911, 693]\n",
            "--------------------------------\n",
            "handbag  :  99.63  :  [168, 774, 327, 988]\n",
            "--------------------------------\n"
          ]
        }
      ],
      "source": [
        "from imageai.Detection import ObjectDetection\n",
        "import os\n",
        "\n",
        "execution_path = os.getcwd()\n",
        "\n",
        "detector = ObjectDetection()\n",
        "detector.setModelTypeAsYOLOv3()\n",
        "detector.setModelPath( os.path.join(execution_path , \"yolov3.pt\"))\n",
        "detector.loadModel()\n",
        "detections = detector.detectObjectsFromImage(input_image=os.path.join(execution_path , \"image2.jpeg\"), output_image_path=os.path.join(execution_path , \"image2new.jpeg\"), minimum_percentage_probability=30)\n",
        "\n",
        "for eachObject in detections:\n",
        "    print(eachObject[\"name\"] , \" : \", eachObject[\"percentage_probability\"], \" : \", eachObject[\"box_points\"] )\n",
        "    print(\"--------------------------------\")"
      ]
    },
    {
      "cell_type": "code",
      "source": [
        "execution_path = os.getcwd()"
      ],
      "metadata": {
        "id": "uvAYPsut-6n7"
      },
      "execution_count": 28,
      "outputs": []
    },
    {
      "cell_type": "code",
      "source": [
        "detector = ObjectDetection()\n",
        "detector.setModelTypeAsYOLOv3()\n",
        "detector.setModelPath( os.path.join(execution_path , \"yolov3.pt\"))\n",
        "detector.loadModel()"
      ],
      "metadata": {
        "id": "T6Lb_R65_bQX"
      },
      "execution_count": 29,
      "outputs": []
    },
    {
      "cell_type": "code",
      "source": [
        "detections = detector.detectObjectsFromImage(input_image=os.path.join(execution_path , \"image1.jpeg\"), output_image_path=os.path.join(execution_path , \"image1new.jpeg\"))\n",
        "\n",
        "for eachObject in detections:\n",
        "    print(eachObject[\"name\"] , \" : \", eachObject[\"percentage_probability\"], \" : \", eachObject[\"box_points\"] )\n",
        "    print(\"--------------------------------\")"
      ],
      "metadata": {
        "colab": {
          "base_uri": "https://localhost:8080/"
        },
        "id": "bpm8DFIw_g7a",
        "outputId": "c855fe27-87ab-4816-f418-34721888acdf"
      },
      "execution_count": 30,
      "outputs": [
        {
          "output_type": "stream",
          "name": "stdout",
          "text": [
            "person  :  99.99  :  [463, 49, 557, 359]\n",
            "--------------------------------\n",
            "dog  :  97.49  :  [266, 307, 327, 372]\n",
            "--------------------------------\n"
          ]
        }
      ]
    },
    {
      "cell_type": "code",
      "source": [
        "detections = detector.detectObjectsFromImage(input_image=os.path.join(execution_path , \"image3.jpeg\"), output_image_path=os.path.join(execution_path , \"image3new.jpeg\"))\n",
        "\n",
        "for eachObject in detections:\n",
        "    print(eachObject[\"name\"] , \" : \", eachObject[\"percentage_probability\"], \" : \", eachObject[\"box_points\"] )\n",
        "    print(\"--------------------------------\")"
      ],
      "metadata": {
        "colab": {
          "base_uri": "https://localhost:8080/"
        },
        "id": "QQr2Kk1N_0en",
        "outputId": "7eed5f20-4cb0-49a7-ff4c-6b15aa89e498"
      },
      "execution_count": 31,
      "outputs": [
        {
          "output_type": "stream",
          "name": "stdout",
          "text": [
            "person  :  100.0  :  [387, 101, 471, 365]\n",
            "--------------------------------\n",
            "person  :  100.0  :  [306, 82, 401, 391]\n",
            "--------------------------------\n",
            "person  :  100.0  :  [450, 84, 481, 167]\n",
            "--------------------------------\n",
            "person  :  99.87  :  [572, 98, 599, 200]\n",
            "--------------------------------\n",
            "person  :  99.76  :  [0, 98, 15, 167]\n",
            "--------------------------------\n",
            "bicycle  :  99.96  :  [238, 228, 328, 384]\n",
            "--------------------------------\n",
            "car  :  97.59  :  [364, 97, 435, 155]\n",
            "--------------------------------\n",
            "car  :  89.09  :  [7, 86, 57, 158]\n",
            "--------------------------------\n"
          ]
        }
      ]
    }
  ]
}