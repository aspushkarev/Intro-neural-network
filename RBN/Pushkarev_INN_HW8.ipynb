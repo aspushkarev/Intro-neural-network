{
  "nbformat": 4,
  "nbformat_minor": 0,
  "metadata": {
    "colab": {
      "provenance": []
    },
    "kernelspec": {
      "name": "python3",
      "display_name": "Python 3"
    },
    "language_info": {
      "name": "python"
    }
  },
  "cells": [
    {
      "cell_type": "markdown",
      "source": [
        "# Radial Basis Network (RBN)"
      ],
      "metadata": {
        "id": "NNa3puSuQ3Sx"
      }
    },
    {
      "cell_type": "markdown",
      "source": [
        "Радиальные базисные сети - это необычный подтип нейронной сети, который в качестве функции активации использует функцию радиального базиса (вместо логистической функции или ReLU или других линейных или нелинейных аналогов).\n",
        "\n",
        "Радиальная базисная функция — это любая функция, которая определяется как функция расстояния от некоторой центральной точки (радиуса). Это свойство ϕ(x)=ϕ(||x||) . Есть много сигнатур функций, которые удовлетворяют этому свойству, но наиболее распространенной является гауссовская: ϕ(r)=e−(ϵr)2\n",
        "\n",
        "Сети с радиальным базисом представляют собой полностью связанные нейронные сети с прямой связью. RBN можно использовать для функциональной аппроксимации.\n",
        "\n",
        "Радиальные базисные сети не имеют собственного определения keras.layer. Поэтому, если нужно использовать RBN, придется самостоятельно определить необходимый слой как пользовательский слой."
      ],
      "metadata": {
        "id": "CyOTn024cJn0"
      }
    },
    {
      "cell_type": "markdown",
      "source": [
        "Input Data\n",
        "https://www.kaggle.com/code/residentmario/radial-basis-networks-and-custom-keras-layers/input"
      ],
      "metadata": {
        "id": "DLAA_T4lPYrj"
      }
    },
    {
      "cell_type": "code",
      "source": [
        "import pandas as pd\n",
        "import numpy as np\n",
        "\n",
        "from keras.layers import Layer\n",
        "from keras import backend as K\n",
        "from keras.layers import Dense, Flatten\n",
        "from keras.models import Sequential\n",
        "from keras.losses import binary_crossentropy"
      ],
      "metadata": {
        "id": "BIqz9EJlYPcR"
      },
      "execution_count": 1,
      "outputs": []
    },
    {
      "cell_type": "code",
      "execution_count": 4,
      "metadata": {
        "id": "pUatDat7O0Ov"
      },
      "outputs": [],
      "source": [
        "class RBFLayer(Layer):\n",
        "    def __init__(self, units, gamma, **kwargs):\n",
        "        super(RBFLayer, self).__init__(**kwargs)\n",
        "        self.units = units\n",
        "        self.gamma = K.cast_to_floatx(gamma)\n",
        "\n",
        "    def build(self, input_shape):\n",
        "        \"\"\"\n",
        "        This is where you will define your weights.\n",
        "        This method should end with calling super([Layer], self).build()\n",
        "        \"\"\"\n",
        "        print(input_shape)\n",
        "        print(self.units)\n",
        "        self.mu = self.add_weight(name='mu',\n",
        "                                  shape=(int(input_shape[1]), self.units),\n",
        "                                  initializer='uniform',\n",
        "                                  trainable=True)\n",
        "        super(RBFLayer, self).build(input_shape)\n",
        "\n",
        "    def call(self, inputs):\n",
        "        diff = K.expand_dims(inputs) - self.mu\n",
        "        l2 = K.sum(K.pow(diff, 2), axis=1)\n",
        "        res = K.exp(-1 * self.gamma * l2)\n",
        "        return res\n",
        "\n",
        "    def compute_output_shape(self, input_shape):\n",
        "        return (input_shape[0], self.units)"
      ]
    },
    {
      "cell_type": "markdown",
      "source": [
        "# Custom non-trainable keras layers"
      ],
      "metadata": {
        "id": "oiagd6yNUqcf"
      }
    },
    {
      "cell_type": "code",
      "source": [
        "X = np.load('/content/k49-train-imgs.npz')['arr_0']\n",
        "y = np.load('/content/k49-train-labels.npz')['arr_0']\n",
        "y = (y <= 25).astype(int)\n",
        "\n",
        "model = Sequential()\n",
        "model.add(Flatten(input_shape=(28, 28)))\n",
        "model.add(RBFLayer(10, 0.5))\n",
        "model.add(Dense(1, activation='sigmoid', name='foo'))\n",
        "\n",
        "model.compile(optimizer='rmsprop', loss=binary_crossentropy)"
      ],
      "metadata": {
        "colab": {
          "base_uri": "https://localhost:8080/"
        },
        "id": "ut7X2djkUr-v",
        "outputId": "56ac9f8d-32e9-4d49-c19a-79b369f6a917"
      },
      "execution_count": 6,
      "outputs": [
        {
          "output_type": "stream",
          "name": "stdout",
          "text": [
            "(None, 784)\n",
            "10\n"
          ]
        }
      ]
    },
    {
      "cell_type": "code",
      "source": [
        "model.fit(X, y, batch_size=256, epochs=5)"
      ],
      "metadata": {
        "colab": {
          "base_uri": "https://localhost:8080/"
        },
        "id": "Dmq9VyQ5WtuZ",
        "outputId": "d7133a4d-d3e8-4622-d46a-fcebb8abf748"
      },
      "execution_count": 7,
      "outputs": [
        {
          "output_type": "stream",
          "name": "stdout",
          "text": [
            "Epoch 1/5\n",
            "908/908 [==============================] - 21s 22ms/step - loss: 0.6823\n",
            "Epoch 2/5\n",
            "908/908 [==============================] - 19s 20ms/step - loss: 0.6806\n",
            "Epoch 3/5\n",
            "908/908 [==============================] - 20s 22ms/step - loss: 0.6806\n",
            "Epoch 4/5\n",
            "908/908 [==============================] - 19s 21ms/step - loss: 0.6805\n",
            "Epoch 5/5\n",
            "908/908 [==============================] - 21s 24ms/step - loss: 0.6805\n"
          ]
        },
        {
          "output_type": "execute_result",
          "data": {
            "text/plain": [
              "<keras.callbacks.History at 0x7f4b41eedba0>"
            ]
          },
          "metadata": {},
          "execution_count": 7
        }
      ]
    }
  ]
}